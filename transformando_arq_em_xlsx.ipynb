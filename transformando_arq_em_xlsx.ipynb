{
 "cells": [
  {
   "cell_type": "code",
   "execution_count": 45,
   "metadata": {},
   "outputs": [],
   "source": [
    "import pandas as pd\n",
    "import re\n",
    "\n",
    "df = pd.read_csv('C:\\\\Users\\\\Wellington\\Documents\\\\Trabalho_Eng_dados\\\\ETL finalizado\\\\Steam_games_tratada.csv')"
   ]
  },
  {
   "cell_type": "code",
   "execution_count": 46,
   "metadata": {},
   "outputs": [],
   "source": [
    "df = df.rename(columns={'data lancamento': 'data_lancamento', 'avaliação geral': 'avaliacao_geral'})\n",
    "df = df.drop(columns=\"all_reviews\")\n",
    "df = df.iloc[:, 1:]  # Isso exclui a primeira coluna, que é a coluna de índice\n"
   ]
  },
  {
   "cell_type": "code",
   "execution_count": 47,
   "metadata": {},
   "outputs": [],
   "source": [
    "# Sua coluna original\n",
    "data =list(df['avaliacao_geral'])\n",
    "\n",
    "# Inicializar listas para as novas colunas\n",
    "porcentagem = []\n",
    "quantidade = []\n",
    "classificacao = []\n",
    "\n",
    "# Expressão regular para extrair os valores\n",
    "pattern = r'(\\d+)% of the ([\\d,]+) user reviews for this game are (\\w+)\\.'\n",
    "\n",
    "for item in data:\n",
    "    match = re.search(pattern, item)\n",
    "    if match:\n",
    "        porcentagem.append(match.group(1) + '%')\n",
    "        quantidade.append(int(match.group(2).replace(',', '')))  # Removendo vírgulas de números com milhares\n",
    "        classificacao.append(match.group(3))\n",
    "    else:\n",
    "        porcentagem.append(None)\n",
    "        quantidade.append(None)\n",
    "        classificacao.append(None)\n",
    "\n",
    "df['porcentagem'] = porcentagem\n",
    "df['quantidade'] = quantidade\n",
    "df['classificacao'] = classificacao"
   ]
  },
  {
   "cell_type": "code",
   "execution_count": 49,
   "metadata": {},
   "outputs": [],
   "source": [
    "def transformando_valores_da_coluna_em_lista_e_salvando_como_xlsx(coluna, caminho_e_nome_do_arquivo_para_salvar):\n",
    "    # passando as colunas para outro DF\n",
    "    pivot = df[coluna]\n",
    "\n",
    "    # transformando em uma lista\n",
    "    tag_lists = [tags.split(',') for tags in pivot]\n",
    "\n",
    "    # # Crie um DataFrame com uma coluna em formato de lista\n",
    "    df_pivot = pd.DataFrame({coluna: tag_lists})\n",
    "    # trouxe a coluna url para esse novo df para ser nosso id\n",
    "    df_pivot['url'] = df['url']\n",
    "\n",
    "    #fazendo o pivotamento (nao sei como escreve)\n",
    "    df_pivot_feito = df_pivot.explode(coluna)\n",
    "\n",
    "    #criando um csv aparte para o pivot\n",
    "    df_pivot_feito.to_excel(caminho_e_nome_do_arquivo_para_salvar, index=False)"
   ]
  },
  {
   "cell_type": "code",
   "execution_count": 50,
   "metadata": {},
   "outputs": [],
   "source": [
    "desfragmentacao_df_url_conquista = df[['url', 'conquistas']]\n",
    "desfragmentacao_df_url_price = df[['url', 'price']]\n",
    "desfragmentacao_df_url_avaliacao = df[['url', 'avaliacao_geral','porcentagem','quantidade','classificacao']]\n",
    "desfragmentacao_df_url_data = df[['url', 'data_lancamento']]\n",
    "desfragmentacao_df_url_name = df[['url','name']]"
   ]
  },
  {
   "cell_type": "code",
   "execution_count": 52,
   "metadata": {},
   "outputs": [],
   "source": [
    "df.to_excel('C:\\\\Users\\\\Wellington\\\\Documents\\\\Trabalho_Eng_dados\\\\ETL finalizado\\\\Steam_tratada.xlsx', index=False)\n",
    "desfragmentacao_df_url_conquista.to_excel('C:\\\\Users\\\\Wellington\\\\Documents\\\\Trabalho_Eng_dados\\\\ETL finalizado\\\\url_conquista.xlsx', index=False)\n",
    "desfragmentacao_df_url_price.to_excel('C:\\\\Users\\\\Wellington\\\\Documents\\\\Trabalho_Eng_dados\\\\ETL finalizado\\\\url_price.xlsx', index=False)\n",
    "desfragmentacao_df_url_avaliacao.to_excel('C:\\\\Users\\\\Wellington\\\\Documents\\\\Trabalho_Eng_dados\\\\ETL finalizado\\\\url_avaliacao.xlsx', index=False)\n",
    "desfragmentacao_df_url_data.to_excel('C:\\\\Users\\\\Wellington\\\\Documents\\\\Trabalho_Eng_dados\\\\ETL finalizado\\\\url_data.xlsx', index=False)\n",
    "desfragmentacao_df_url_name.to_excel('C:\\\\Users\\\\Wellington\\\\Documents\\\\Trabalho_Eng_dados\\\\ETL finalizado\\\\url_name.xlsx', index=False)\n",
    "transformando_valores_da_coluna_em_lista_e_salvando_como_xlsx('genre', 'C:\\\\Users\\\\Wellington\\\\Documents\\\\Trabalho_Eng_dados\\\\ETL finalizado\\\\url_genre.xlsx')\n",
    "transformando_valores_da_coluna_em_lista_e_salvando_como_xlsx('languages', 'C:\\\\Users\\\\Wellington\\\\Documents\\\\Trabalho_Eng_dados\\\\ETL finalizado\\\\url_languages.xlsx')\n",
    "transformando_valores_da_coluna_em_lista_e_salvando_como_xlsx('game_details', 'C:\\\\Users\\\\Wellington\\\\Documents\\\\Trabalho_Eng_dados\\\\ETL finalizado\\\\url_game_details.xlsx')\n",
    "transformando_valores_da_coluna_em_lista_e_salvando_como_xlsx('popular_tags', 'C:\\\\Users\\\\Wellington\\\\Documents\\\\Trabalho_Eng_dados\\\\ETL finalizado\\\\url_popular_tags.xlsx')"
   ]
  }
 ],
 "metadata": {
  "kernelspec": {
   "display_name": "teste",
   "language": "python",
   "name": "python3"
  },
  "language_info": {
   "codemirror_mode": {
    "name": "ipython",
    "version": 3
   },
   "file_extension": ".py",
   "mimetype": "text/x-python",
   "name": "python",
   "nbconvert_exporter": "python",
   "pygments_lexer": "ipython3",
   "version": "3.9.12"
  }
 },
 "nbformat": 4,
 "nbformat_minor": 2
}
