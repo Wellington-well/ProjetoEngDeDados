{
 "cells": [
  {
   "cell_type": "code",
   "execution_count": 6,
   "metadata": {},
   "outputs": [],
   "source": [
    "# IMPORTSs\n",
    "import pandas as pd\n",
    "import numpy as np\n",
    "import requests\n",
    "from bs4 import BeautifulSoup\n",
    "from dateutil import parser\n"
   ]
  },
  {
   "cell_type": "code",
   "execution_count": 12,
   "metadata": {},
   "outputs": [],
   "source": [
    "# LENDO O DATAFRAME\n",
    "df = pd.read_csv('steam_games.csv')"
   ]
  },
  {
   "cell_type": "code",
   "execution_count": 13,
   "metadata": {},
   "outputs": [
    {
     "name": "stdout",
     "output_type": "stream",
     "text": [
      "(40833, 20)\n",
      "url                             0\n",
      "types                           2\n",
      "name                           16\n",
      "desc_snippet                13221\n",
      "recent_reviews              38127\n",
      "all_reviews                 12363\n",
      "release_date                 3179\n",
      "developer                     343\n",
      "publisher                    5100\n",
      "popular_tags                 2945\n",
      "game_details                  520\n",
      "languages                      36\n",
      "achievements                28639\n",
      "genre                         438\n",
      "game_description             2913\n",
      "mature_content              37936\n",
      "minimum_requirements        19764\n",
      "recommended_requirements    19758\n",
      "original_price               5311\n",
      "discount_price              26290\n",
      "dtype: int64\n"
     ]
    }
   ],
   "source": [
    "print(df.shape)\n",
    "print(df.isna().sum())"
   ]
  },
  {
   "cell_type": "code",
   "execution_count": 14,
   "metadata": {},
   "outputs": [],
   "source": [
    "# colunas que irei excluir \n",
    "df = df.drop(columns=['recommended_requirements', 'minimum_requirements',\n",
    "                      'mature_content', 'recent_reviews', 'desc_snippet'])\n",
    "\n"
   ]
  },
  {
   "cell_type": "code",
   "execution_count": 44,
   "metadata": {},
   "outputs": [],
   "source": [
    "# funçoes\n",
    "# transformando os valores numericos que estão como string em float e mantendo as urls que já estão\n",
    "def convertendo_str_para_float_mantendo_as_url(valor):\n",
    "    try:\n",
    "        return float(valor)\n",
    "    except ValueError:\n",
    "        return valor\n",
    "    \n",
    "# pegando apenas string q tenha 'Free' ou 'free' ou 'R$' e mantendo os os valores numericos antigos\n",
    "# os valores dos jogos obtidos após o webscrapitng veio nesse formato (R$ valor do jogo)\n",
    "# assim filtrei esses valores dos valores confusos q vinheram\n",
    "def mantendo_strings_estrategicas(valor):\n",
    "    if isinstance(valor, str):\n",
    "        if 'R$' in valor or 'Free' in valor or 'free' in valor:\n",
    "            return valor\n",
    "        else:\n",
    "            return np.nan\n",
    "    elif isinstance(valor, (float, int)):\n",
    "        return valor\n",
    "    else:\n",
    "        return np.nan\n",
    "    \n",
    "#deixando os numeros no mesmo formato (valor.decimal) e trocando 'R$' -> '' e ',' -> '.'\n",
    "# 'R$ 20,99'->'20.99'\n",
    "def formatando_os_valores(valor):\n",
    "    if isinstance(valor, str) and 'R$' in valor:\n",
    "        valor = valor.replace('R$', '').replace(',', '.').strip()\n",
    "        return float(valor)\n",
    "    else:\n",
    "        return valor\n",
    "    \n",
    "# transformando os valores em datetime e os valores que nao é possivel transformar vai virar um nan\n",
    "# se a data não tiver um dia definido (may 2002)\n",
    "# vai se considerado (may 1 2002)\n",
    "def transformando_datas_em_datatime(text):\n",
    "    for fmt in ('%b %d, %Y', '%b %Y', '%d/%m/%Y'):\n",
    "        try:\n",
    "            return pd.to_datetime(text, format=fmt)\n",
    "        except ValueError:\n",
    "            pass\n",
    "    return np.nan\n",
    "\n",
    "def recortando_a_lista_mantendo_url(text):\n",
    "    if 'http' in text:\n",
    "        return text  # Mantém URLs inalteradas\n",
    "    return text.split('- ')[1].strip()\n"
   ]
  },
  {
   "cell_type": "markdown",
   "metadata": {},
   "source": [
    "# tratando coluna original_price -> price"
   ]
  },
  {
   "cell_type": "code",
   "execution_count": 15,
   "metadata": {},
   "outputs": [
    {
     "name": "stderr",
     "output_type": "stream",
     "text": [
      "C:\\Users\\Wellington\\AppData\\Local\\Temp\\ipykernel_12096\\1446868490.py:11: FutureWarning: The default value of regex will change from True to False in a future version. In addition, single character regular expressions will *not* be treated as literal strings when regex=True.\n",
      "  df['original_price'] = df['original_price'].str.replace('$', '')\n"
     ]
    }
   ],
   "source": [
    "#transformando as linhas que estão com algum indicativo que o jogo seja gratuito \n",
    "# 'Free', 'Free To Play', 'Free to Play' ou 'Play for Free!' em 0\n",
    "df['original_price'] = df['original_price'].apply(lambda x: 0 if x == 'Free' else x)\n",
    "df['original_price'] = df['original_price'].apply(lambda x: 0 if x == 'Free To Play' else x)\n",
    "df['original_price'] = df['original_price'].apply(lambda x: 0 if x == 'Free to Play' else x)\n",
    "df['original_price'] = df['original_price'].apply(lambda x: 0 if x == 'Play for Free!' else x)\n",
    "\n",
    "#transformando todos o valores em string\n",
    "df['original_price'] = df['original_price'].astype(str)\n",
    "# substituindo '$' --> ''\n",
    "df['original_price'] = df['original_price'].str.replace('$', '')\n",
    "\n",
    "# Criando uma nova coluna 'preco' com o valores numericos da coluna 'orginal_price' e as string serão NaN\n",
    "df['preço'] = pd.to_numeric(df['original_price'], errors='coerce')\n",
    "\n",
    "# Transformando os nan na url\n",
    "df['preço'].fillna(df['url'], inplace=True)\n",
    "lista_coluna_preco = list(df['preço'])\n",
    "\n",
    "# pegando as URl\n",
    "lista_com_url_coluna_preco = [x for x in lista_coluna_preco if isinstance(x, str)]"
   ]
  },
  {
   "cell_type": "code",
   "execution_count": 16,
   "metadata": {},
   "outputs": [],
   "source": [
    "#lista onde vou colocar os valores dos jogos\n",
    "preco_dos_jogos_encontrados = []\n",
    "# lista com as urls manipulaveis\n",
    "url_utilizavel = []\n",
    "#lista com url sem uso\n",
    "urls_sem_uso = []\n",
    "\n",
    "url = lista_com_url_coluna_preco\n",
    "\n",
    "# criando um for para verificar cada url se da para usar ou nao\n",
    "for i in url:\n",
    "        \n",
    "    response = requests.get(i)\n",
    "\n",
    "    # Verificar se a solicitação foi bem-sucedida\n",
    "    if response.status_code == 200:\n",
    "        # Parse a página HTML\n",
    "        soup = BeautifulSoup(response.text, 'html.parser')\n",
    "\n",
    "        # indo na class que contem o preço \n",
    "        price_element = soup.find('div', {'class': 'game_purchase_price'})\n",
    "\n",
    "        # vendo se tem valor na class\n",
    "        if price_element:\n",
    "            # pegando o valor que está dentro da class\n",
    "            price_text = price_element.get_text().strip()\n",
    "            preco_dos_jogos_encontrados.append(price_text)\n",
    "            url_utilizavel.append(i)\n",
    "        else:\n",
    "            urls_sem_uso.append(i)\n",
    "    else:\n",
    "        urls_sem_uso.append(i)\n"
   ]
  },
  {
   "cell_type": "code",
   "execution_count": 18,
   "metadata": {},
   "outputs": [],
   "source": [
    "# criando uma lista com os valores convertidos e as urls  \n",
    "data_convertida = [convertendo_str_para_float_mantendo_as_url(valor) for valor in df['preço']]\n",
    "\n",
    "# criando uma nova coluna com os valores convertidos e as urls\n",
    "df['preço teste'] = data_convertida"
   ]
  },
  {
   "cell_type": "code",
   "execution_count": 20,
   "metadata": {},
   "outputs": [],
   "source": [
    "#transformando as urls sem uso em nan\n",
    "df.loc[df['preço teste'].isin(urls_sem_uso), 'preço teste'] = pd.NA\n",
    "\n",
    "#excluindo os nan da coluna\n",
    "df = df.dropna(subset=['preço teste'])"
   ]
  },
  {
   "cell_type": "code",
   "execution_count": 21,
   "metadata": {},
   "outputs": [],
   "source": [
    "df = df.reset_index()\n",
    "\n",
    "# Inicialize um contador\n",
    "contador = 0\n",
    "\n",
    "# Loop para substituir as strings\n",
    "for i in range(len(df)):\n",
    "    if isinstance(df.at[i, 'preço teste'], str) and contador < len(preco_dos_jogos_encontrados):\n",
    "        df.at[i, 'preço teste'] = preco_dos_jogos_encontrados[contador]\n",
    "        contador += 1"
   ]
  },
  {
   "cell_type": "code",
   "execution_count": 27,
   "metadata": {},
   "outputs": [],
   "source": [
    "# coversao de dolar ----> real no atual momento 01/10/2023 o dolar está a 5.04\n",
    "# Estou convertendo agora pq temos valores q acabaram de chegar do scraping e os antigos(q são float e estão em dolar)\n",
    "df['price'] = df['preço teste'].apply(lambda x: round(x * 5.04, 2) if isinstance(x, (int, float)) else x)\n"
   ]
  },
  {
   "cell_type": "code",
   "execution_count": 29,
   "metadata": {},
   "outputs": [],
   "source": [
    "# removendo um outlier\n",
    "df_remove = df.loc[(df['price']=='R$ 1.118,88')]\n",
    "df = df.drop(df_remove.index)"
   ]
  },
  {
   "cell_type": "code",
   "execution_count": 31,
   "metadata": {},
   "outputs": [],
   "source": [
    "# criando coluna 'price' mantendo as string 'R$' 'free' 'Free'\n",
    "df['price'] = df['preço teste'].apply(mantendo_strings_estrategicas)"
   ]
  },
  {
   "cell_type": "code",
   "execution_count": 32,
   "metadata": {},
   "outputs": [],
   "source": [
    "# atualizando a coluna\n",
    "df['price'] = df['price'].apply(formatando_os_valores)"
   ]
  },
  {
   "cell_type": "code",
   "execution_count": 33,
   "metadata": {},
   "outputs": [],
   "source": [
    "# linhas com 'Free', 'Free To Play' e 'Free to Play' transformei em 0\n",
    "df['price'] = df['price'].apply(lambda x: 0 if x == 'Free' else x)\n",
    "df['price'] = df['price'].apply(lambda x: 0 if x == 'Free To Play' else x)\n",
    "df['price'] = df['price'].apply(lambda x: 0 if x == 'Free to Play' else x)"
   ]
  },
  {
   "cell_type": "code",
   "execution_count": 34,
   "metadata": {},
   "outputs": [
    {
     "name": "stdout",
     "output_type": "stream",
     "text": [
      "(36945, 19)\n",
      "index                   0\n",
      "url                     0\n",
      "types                   1\n",
      "name                    1\n",
      "all_reviews          8926\n",
      "release_date          751\n",
      "developer             253\n",
      "publisher            4818\n",
      "popular_tags          627\n",
      "game_details          458\n",
      "languages              20\n",
      "achievements        24820\n",
      "genre                 357\n",
      "game_description      590\n",
      "original_price          0\n",
      "discount_price      24736\n",
      "preço                   0\n",
      "preço teste             0\n",
      "price                 260\n",
      "dtype: int64\n"
     ]
    }
   ],
   "source": [
    "print(df.shape)\n",
    "print(df.isna().sum())"
   ]
  },
  {
   "cell_type": "code",
   "execution_count": 36,
   "metadata": {},
   "outputs": [],
   "source": [
    "# transformando todas as strings em nan\n",
    "df['price'] = df['price'].apply(lambda x: np.nan if isinstance(x, str) else x)\n",
    "\n",
    "df = df.dropna(subset=['price'])\n",
    "df = df.drop(columns=['preço teste', 'preço', 'original_price'])"
   ]
  },
  {
   "cell_type": "code",
   "execution_count": 37,
   "metadata": {},
   "outputs": [
    {
     "name": "stdout",
     "output_type": "stream",
     "text": [
      "(36646, 16)\n",
      "index                   0\n",
      "url                     0\n",
      "types                   1\n",
      "name                    1\n",
      "all_reviews          8840\n",
      "release_date          743\n",
      "developer             253\n",
      "publisher            4816\n",
      "popular_tags          627\n",
      "game_details          453\n",
      "languages              20\n",
      "achievements        24652\n",
      "genre                 356\n",
      "game_description      590\n",
      "discount_price      24486\n",
      "price                   0\n",
      "dtype: int64\n"
     ]
    }
   ],
   "source": [
    "print(df.shape)\n",
    "print(df.isna().sum())"
   ]
  },
  {
   "cell_type": "markdown",
   "metadata": {},
   "source": [
    "# tratanado coluna discount_price -> desconto "
   ]
  },
  {
   "cell_type": "code",
   "execution_count": 38,
   "metadata": {},
   "outputs": [
    {
     "name": "stderr",
     "output_type": "stream",
     "text": [
      "C:\\Users\\Wellington\\AppData\\Local\\Temp\\ipykernel_12096\\2573350738.py:2: FutureWarning: The default value of regex will change from True to False in a future version. In addition, single character regular expressions will *not* be treated as literal strings when regex=True.\n",
      "  df['discount_price'] = df['discount_price'].str.replace('$', '')\n"
     ]
    }
   ],
   "source": [
    "# tirando os '$' dos preços\n",
    "df['discount_price'] = df['discount_price'].str.replace('$', '')\n",
    "#transformando os valores em float\n",
    "df['desconto'] = pd.to_numeric(df['discount_price'], errors='coerce')\n",
    "# transformando nan em 0\n",
    "df['desconto'] = df['desconto'].fillna(0)\n",
    "# coversao de dolar ----> real no atual momento 01/10/2023 o dolar está a 5.04\n",
    "df['desconto'] = df['desconto'].apply(lambda x: round(x * 5.04, 2) if isinstance(x, (int, float)) else x)\n",
    "\n",
    "df = df.drop(columns=['discount_price'])"
   ]
  },
  {
   "cell_type": "markdown",
   "metadata": {},
   "source": [
    "# tratamento coluna game_description"
   ]
  },
  {
   "cell_type": "code",
   "execution_count": 39,
   "metadata": {},
   "outputs": [],
   "source": [
    "# excluindo os valores nulos da coluna \n",
    "df = df.dropna(subset=['game_description'])"
   ]
  },
  {
   "cell_type": "code",
   "execution_count": 40,
   "metadata": {},
   "outputs": [],
   "source": [
    "# pegando os valores unicos da coluna game_description\n",
    "valores_unicos_da_coluna_game_description = list(df['game_description'].unique())\n",
    "\n",
    "#verificando as descrições que tem uma qunatidade baixa de index\n",
    "strings_pequenas = [st for st in valores_unicos_da_coluna_game_description if len(st) < 50]\n",
    "# strings_pequenas"
   ]
  },
  {
   "cell_type": "code",
   "execution_count": 41,
   "metadata": {},
   "outputs": [],
   "source": [
    "# TRANSFORMANDO UMA LINHA Q NAO TINHA NENHUMA DESCRIÇÃO EM NaN\n",
    "df['game_description'] = df['game_description'].apply(lambda x: np.nan if x == ' About This Game  ' else x)\n",
    "df['game_description'] = df['game_description'].apply(lambda x: np.nan if x == ' About This Game Null' else x)\n",
    "df['game_description'] = df['game_description'].apply(lambda x: np.nan if x == ' About This Content  ' else x)\n",
    "df['game_description'] = df['game_description'].apply(lambda x: np.nan if x == ' About This Software  ' else x)\n",
    "df['game_description'] = df['game_description'].apply(lambda x: np.nan if x == ' About This Game Nothing' else x)\n",
    "df['game_description'] = df['game_description'].apply(lambda x: np.nan if x == ' About This Game ...' else x)\n",
    "df['game_description'] = df['game_description'].apply(lambda x: np.nan if x == ' About This Game ......' else x)\n",
    "df['game_description'] = df['game_description'].apply(lambda x: np.nan if x == ' About This Game  YouTube: Chicharoney ' else x)\n",
    "df['game_description'] = df['game_description'].apply(lambda x: np.nan if x == ' About This Content #auto_app_97368_about_default' else x)\n",
    "\n",
    "#EXCLUINDO TODOS OS NAN DESSA COLUNA\n",
    "df = df.dropna(subset=['game_description'])"
   ]
  },
  {
   "cell_type": "markdown",
   "metadata": {},
   "source": [
    "# tratamento coluna release_date ->"
   ]
  },
  {
   "cell_type": "code",
   "execution_count": 42,
   "metadata": {},
   "outputs": [],
   "source": [
    "# excluindo os valores nulos da coluna \n",
    "df = df.dropna(subset=['release_date'])"
   ]
  },
  {
   "cell_type": "code",
   "execution_count": 45,
   "metadata": {},
   "outputs": [],
   "source": [
    "# aplicando a função para converter as datas em datetime e cria uma nova coluna 'data_formatada'\n",
    "df['data formatada'] = df['release_date'].apply(transformando_datas_em_datatime)\n"
   ]
  },
  {
   "cell_type": "code",
   "execution_count": 47,
   "metadata": {},
   "outputs": [],
   "source": [
    "# indentificando as linhas que possuem o nan \n",
    "mascara = df['data formatada'].isna()\n",
    "\n",
    "# Substituir os valores nan na coluna 'data' pelos valores correspondentes da coluna 'url'\n",
    "df.loc[mascara, 'data formatada'] = df.loc[mascara, 'url']"
   ]
  },
  {
   "cell_type": "code",
   "execution_count": 50,
   "metadata": {},
   "outputs": [],
   "source": [
    "#pegar as urls q estão na coluna junto com as datas\n",
    "lista_da_coluna_data_formatada = list(df['data formatada'])\n",
    "\n",
    "#pegando as urls q estão na lista para fazer o web scraping\n",
    "pegando_as_urls_da_coluna_data_formatada = [item for item in lista_da_coluna_data_formatada if isinstance(item, str)]\n",
    "# pegando_as_urls_da_coluna_data_formatada"
   ]
  },
  {
   "cell_type": "code",
   "execution_count": 48,
   "metadata": {},
   "outputs": [
    {
     "data": {
      "text/html": [
       "<div>\n",
       "<style scoped>\n",
       "    .dataframe tbody tr th:only-of-type {\n",
       "        vertical-align: middle;\n",
       "    }\n",
       "\n",
       "    .dataframe tbody tr th {\n",
       "        vertical-align: top;\n",
       "    }\n",
       "\n",
       "    .dataframe thead th {\n",
       "        text-align: right;\n",
       "    }\n",
       "</style>\n",
       "<table border=\"1\" class=\"dataframe\">\n",
       "  <thead>\n",
       "    <tr style=\"text-align: right;\">\n",
       "      <th></th>\n",
       "      <th>release_date</th>\n",
       "      <th>data formatada</th>\n",
       "    </tr>\n",
       "  </thead>\n",
       "  <tbody>\n",
       "    <tr>\n",
       "      <th>4920</th>\n",
       "      <td>Jun 7, 2016</td>\n",
       "      <td>2016-06-07 00:00:00</td>\n",
       "    </tr>\n",
       "    <tr>\n",
       "      <th>30119</th>\n",
       "      <td>Mar 18, 2019</td>\n",
       "      <td>2019-03-18 00:00:00</td>\n",
       "    </tr>\n",
       "    <tr>\n",
       "      <th>25394</th>\n",
       "      <td>Jun 9, 2018</td>\n",
       "      <td>2018-06-09 00:00:00</td>\n",
       "    </tr>\n",
       "    <tr>\n",
       "      <th>36715</th>\n",
       "      <td>Q3 2019</td>\n",
       "      <td>https://store.steampowered.com/app/1026420/WAR...</td>\n",
       "    </tr>\n",
       "    <tr>\n",
       "      <th>16534</th>\n",
       "      <td>Oct 12, 2017</td>\n",
       "      <td>2017-10-12 00:00:00</td>\n",
       "    </tr>\n",
       "    <tr>\n",
       "      <th>24481</th>\n",
       "      <td>Oct 16, 2018</td>\n",
       "      <td>2018-10-16 00:00:00</td>\n",
       "    </tr>\n",
       "    <tr>\n",
       "      <th>35679</th>\n",
       "      <td>Jul 20, 2018</td>\n",
       "      <td>2018-07-20 00:00:00</td>\n",
       "    </tr>\n",
       "    <tr>\n",
       "      <th>14045</th>\n",
       "      <td>Aug 16, 2013</td>\n",
       "      <td>2013-08-16 00:00:00</td>\n",
       "    </tr>\n",
       "    <tr>\n",
       "      <th>19599</th>\n",
       "      <td>Feb 27, 2012</td>\n",
       "      <td>2012-02-27 00:00:00</td>\n",
       "    </tr>\n",
       "    <tr>\n",
       "      <th>21655</th>\n",
       "      <td>Apr 5, 2017</td>\n",
       "      <td>2017-04-05 00:00:00</td>\n",
       "    </tr>\n",
       "    <tr>\n",
       "      <th>5718</th>\n",
       "      <td>Sep 11, 2018</td>\n",
       "      <td>2018-09-11 00:00:00</td>\n",
       "    </tr>\n",
       "    <tr>\n",
       "      <th>5195</th>\n",
       "      <td>Jan 28, 2019</td>\n",
       "      <td>2019-01-28 00:00:00</td>\n",
       "    </tr>\n",
       "    <tr>\n",
       "      <th>21721</th>\n",
       "      <td>Oct 31, 2014</td>\n",
       "      <td>2014-10-31 00:00:00</td>\n",
       "    </tr>\n",
       "    <tr>\n",
       "      <th>23780</th>\n",
       "      <td>Jan 1, 1998</td>\n",
       "      <td>1998-01-01 00:00:00</td>\n",
       "    </tr>\n",
       "    <tr>\n",
       "      <th>9423</th>\n",
       "      <td>Dec 22, 2017</td>\n",
       "      <td>2017-12-22 00:00:00</td>\n",
       "    </tr>\n",
       "  </tbody>\n",
       "</table>\n",
       "</div>"
      ],
      "text/plain": [
       "       release_date                                     data formatada\n",
       "4920    Jun 7, 2016                                2016-06-07 00:00:00\n",
       "30119  Mar 18, 2019                                2019-03-18 00:00:00\n",
       "25394   Jun 9, 2018                                2018-06-09 00:00:00\n",
       "36715       Q3 2019  https://store.steampowered.com/app/1026420/WAR...\n",
       "16534  Oct 12, 2017                                2017-10-12 00:00:00\n",
       "24481  Oct 16, 2018                                2018-10-16 00:00:00\n",
       "35679  Jul 20, 2018                                2018-07-20 00:00:00\n",
       "14045  Aug 16, 2013                                2013-08-16 00:00:00\n",
       "19599  Feb 27, 2012                                2012-02-27 00:00:00\n",
       "21655   Apr 5, 2017                                2017-04-05 00:00:00\n",
       "5718   Sep 11, 2018                                2018-09-11 00:00:00\n",
       "5195   Jan 28, 2019                                2019-01-28 00:00:00\n",
       "21721  Oct 31, 2014                                2014-10-31 00:00:00\n",
       "23780   Jan 1, 1998                                1998-01-01 00:00:00\n",
       "9423   Dec 22, 2017                                2017-12-22 00:00:00"
      ]
     },
     "execution_count": 48,
     "metadata": {},
     "output_type": "execute_result"
    }
   ],
   "source": [
    "df[['release_date','data formatada']].sample(15)"
   ]
  },
  {
   "cell_type": "code",
   "execution_count": 52,
   "metadata": {},
   "outputs": [],
   "source": [
    "# fazer o web scraping com as urls já setadas\n",
    "#lista com as datas de lançamento\n",
    "lista_com_a_data_de_lacamento_dos_jogos = []\n",
    "# lista com as urls manipulaveis\n",
    "url_utilizavel_data = []\n",
    "#lista com url sem uso\n",
    "urls_sem_uso_data = []\n",
    "\n",
    "url = pegando_as_urls_da_coluna_data_formatada\n",
    "# criando um for para verificar cada url se da para usar ou nao\n",
    "for i in url:  \n",
    "\n",
    "    response = requests.get(i)\n",
    "    \n",
    "    # Verificar se a solicitação foi bem-sucedida\n",
    "    if response.status_code == 200:\n",
    "        # Parse a página HTML\n",
    "        soup = BeautifulSoup(response.text, 'html.parser')\n",
    "\n",
    "        # indo na class que contem a data \n",
    "        data_element = soup.find('div', class_='date')\n",
    "\n",
    "        # Verificar se a data foi encontrada \n",
    "        if data_element:\n",
    "            # pegando a data\n",
    "            date_text = data_element.get_text().strip()\n",
    "\n",
    "            lista_com_a_data_de_lacamento_dos_jogos.append(date_text)\n",
    "            url_utilizavel_data.append(i)\n",
    "        else:\n",
    "            urls_sem_uso_data.append(i)\n",
    "    else:\n",
    "        urls_sem_uso_data.append(i)"
   ]
  },
  {
   "cell_type": "code",
   "execution_count": 54,
   "metadata": {},
   "outputs": [
    {
     "data": {
      "text/plain": [
       "array([Timestamp('2016-05-12 00:00:00'), Timestamp('2017-12-21 00:00:00'),\n",
       "       Timestamp('2018-04-24 00:00:00'), ...,\n",
       "       Timestamp('2019-09-12 00:00:00'),\n",
       "       'https://store.steampowered.com/app/911510/Paws_and_Soul/',\n",
       "       'https://store.steampowered.com/app/906470/Gravia/'], dtype=object)"
      ]
     },
     "execution_count": 54,
     "metadata": {},
     "output_type": "execute_result"
    }
   ],
   "source": [
    "df['data formatada'].unique()"
   ]
  },
  {
   "cell_type": "code",
   "execution_count": 55,
   "metadata": {},
   "outputs": [],
   "source": [
    "#transformando as urls sem uso em nan\n",
    "df.loc[df['data formatada'].isin(urls_sem_uso_data), 'data formatada'] = pd.NA\n",
    "\n",
    "#dropando os nan da coluna\n",
    "df = df.dropna(subset=['data formatada'])"
   ]
  },
  {
   "cell_type": "code",
   "execution_count": 56,
   "metadata": {},
   "outputs": [],
   "source": [
    "df = df.reset_index()"
   ]
  },
  {
   "cell_type": "code",
   "execution_count": 57,
   "metadata": {},
   "outputs": [],
   "source": [
    "# trocar as datas recebidas do web scraping pelas urls correspondente\n",
    "\n",
    "# Inicialize um contador\n",
    "contador = 0\n",
    "\n",
    "# Loop para substituir as strings\n",
    "# como a ordem bate\n",
    "# quando o index da coluna for string ele vai pegar o valor da lista que é correspondendte e substituir\n",
    "for i in range(len(df)):\n",
    "    if isinstance(df.at[i, 'data formatada'], str) and contador < len(lista_com_a_data_de_lacamento_dos_jogos):\n",
    "        df.at[i, 'data formatada'] = lista_com_a_data_de_lacamento_dos_jogos[contador]\n",
    "        contador += 1"
   ]
  },
  {
   "cell_type": "code",
   "execution_count": 78,
   "metadata": {},
   "outputs": [],
   "source": [
    "# verificando os valores que nao estão no formato de data\n",
    "lista_da_coluna_data_formatada_valores_unicos = list(df['data formatada'].unique())\n",
    "tentando_achar_valores_diferentes_de_data = [x for x in lista_da_coluna_data_formatada_valores_unicos if isinstance(x, str)]\n",
    "verificando = [st for st in tentando_achar_valores_diferentes_de_data if len(st) < 12]\n",
    "# verificando"
   ]
  },
  {
   "cell_type": "code",
   "execution_count": 79,
   "metadata": {},
   "outputs": [],
   "source": [
    "# transformando em nan os valores q nao estao no formato de data\n",
    "df['data formatada'] = df['data formatada'].apply(lambda x: np.nan if x == 'Coming soon' else x)"
   ]
  },
  {
   "cell_type": "code",
   "execution_count": 80,
   "metadata": {},
   "outputs": [],
   "source": [
    "# #transformando novamente a coluna inteira em date time\n",
    "\n",
    "# transformando todos os formato de data em data\n",
    "df['data lancamento'] = df['data formatada'].apply(lambda x: parser.parse(x) if isinstance(x, str) else x)"
   ]
  },
  {
   "cell_type": "code",
   "execution_count": 81,
   "metadata": {},
   "outputs": [],
   "source": [
    "df = df.dropna(subset=['data formatada'])"
   ]
  },
  {
   "cell_type": "code",
   "execution_count": 82,
   "metadata": {},
   "outputs": [
    {
     "name": "stdout",
     "output_type": "stream",
     "text": [
      "(35810, 19)\n",
      "level_0                 0\n",
      "index                   0\n",
      "url                     0\n",
      "types                   0\n",
      "name                    0\n",
      "all_reviews          8184\n",
      "release_date            0\n",
      "developer             243\n",
      "publisher            4771\n",
      "popular_tags           98\n",
      "game_details          435\n",
      "languages               3\n",
      "achievements        23849\n",
      "genre                 347\n",
      "game_description        0\n",
      "price                   0\n",
      "desconto                0\n",
      "data formatada          0\n",
      "data lancamento         0\n",
      "dtype: int64\n"
     ]
    }
   ],
   "source": [
    "print(df.shape)\n",
    "print(df.isna().sum())"
   ]
  },
  {
   "cell_type": "markdown",
   "metadata": {},
   "source": [
    "# tratando coluna achievements -> conquistas"
   ]
  },
  {
   "cell_type": "code",
   "execution_count": 83,
   "metadata": {},
   "outputs": [],
   "source": [
    "# transformars os valores que estão como nan em url q sao correspondente\n",
    "\n",
    "# indentificando as linhas que possuem o nan \n",
    "mascara = df['achievements'].isna()\n",
    "\n",
    "# Substituir os valores nan na coluna 'data' pelos valores correspondentes da coluna 'url'\n",
    "df.loc[mascara, 'achievements'] = df.loc[mascara, 'url']"
   ]
  },
  {
   "cell_type": "code",
   "execution_count": 84,
   "metadata": {},
   "outputs": [
    {
     "data": {
      "text/plain": [
       "23849"
      ]
     },
     "execution_count": 84,
     "metadata": {},
     "output_type": "execute_result"
    }
   ],
   "source": [
    "# pegar as urls q estão na coluna \n",
    "# transformando toda a coluna achievements em uma lista\n",
    "lista_da_coluna_achievements = list(df['achievements'])\n",
    "\n",
    "#pegando as urls q estão na lista para fazer o web scraping\n",
    "pegando_as_urls_da_coluna_achievements = [item for item in lista_da_coluna_achievements if isinstance(item, str)]\n",
    "len(pegando_as_urls_da_coluna_achievements)"
   ]
  },
  {
   "cell_type": "code",
   "execution_count": 85,
   "metadata": {},
   "outputs": [],
   "source": [
    "# fazer o web scraping\n",
    "lista_com_a_quantidade_de_conquista_de_cada_jogo = []\n",
    "# lista com as urls manipulaveis\n",
    "url_utilizavel_conquistas = []\n",
    "#lista com url sem uso\n",
    "urls_sem_uso_conquista = []\n",
    "\n",
    "url = pegando_as_urls_da_coluna_achievements\n",
    "# criando um for para verificar cada url se da para usar ou nao\n",
    "for i in url:  \n",
    "\n",
    "    response = requests.get(i)\n",
    "    \n",
    "    # Verificar se a solicitação foi bem-sucedida\n",
    "    if response.status_code == 200:\n",
    "        # Parse a página HTML\n",
    "        soup = BeautifulSoup(response.text, 'html.parser')\n",
    "\n",
    "        # indo na class que contem a conquista \n",
    "        data_element = soup.find('div', class_='communitylink_achievement_images')\n",
    "\n",
    "        # Verificar se o elemento foi encontrado\n",
    "        if data_element:\n",
    "            # pegando a conquista\n",
    "            date_text = data_element.get_text().strip()\n",
    "\n",
    "            lista_com_a_quantidade_de_conquista_de_cada_jogo.append(date_text)\n",
    "            url_utilizavel_conquistas.append(i)\n",
    "        else:\n",
    "            urls_sem_uso_conquista.append(i)\n",
    "    else:\n",
    "        urls_sem_uso_conquista.append(i)"
   ]
  },
  {
   "cell_type": "code",
   "execution_count": 135,
   "metadata": {},
   "outputs": [
    {
     "name": "stdout",
     "output_type": "stream",
     "text": [
      "1273\n",
      "1273\n"
     ]
    }
   ],
   "source": [
    "print(len(lista_com_a_quantidade_de_conquista_de_cada_jogo))\n",
    "print(len(url_utilizavel_conquistas))"
   ]
  },
  {
   "cell_type": "code",
   "execution_count": 117,
   "metadata": {},
   "outputs": [],
   "source": [
    "# $ transformar os valores q estão vazio em suas urls q estão respectivas posições\n",
    "# ao inves de vim o valor veio '' \n",
    "\n",
    "urls_q_veio_sem_valor_no_lugar_dos_valores_vazio = []\n",
    "\n",
    "# percorrer os valores das duas listas\n",
    "for conquista_item, url_item in zip(lista_com_a_quantidade_de_conquista_de_cada_jogo, url_utilizavel_conquistas):\n",
    "    # verificar se o valor da lista \"conquista\" é igual a \"''\"\n",
    "    if conquista_item == '':\n",
    "        # se for igual vou adicionar o valor correspondente da lista \"urls\"\n",
    "        urls_q_veio_sem_valor_no_lugar_dos_valores_vazio.append(url_item)\n",
    "    else:\n",
    "        # se nao vou manter o valor da lista \"conquista\"\n",
    "        urls_q_veio_sem_valor_no_lugar_dos_valores_vazio.append(conquista_item)\n"
   ]
  },
  {
   "cell_type": "code",
   "execution_count": 136,
   "metadata": {},
   "outputs": [
    {
     "data": {
      "text/plain": [
       "1273"
      ]
     },
     "execution_count": 136,
     "metadata": {},
     "output_type": "execute_result"
    }
   ],
   "source": [
    "len(urls_q_veio_sem_valor_no_lugar_dos_valores_vazio)\n",
    "# len()"
   ]
  },
  {
   "cell_type": "code",
   "execution_count": 137,
   "metadata": {},
   "outputs": [
    {
     "data": {
      "text/plain": [
       "55"
      ]
     },
     "execution_count": 137,
     "metadata": {},
     "output_type": "execute_result"
    }
   ],
   "source": [
    "pegando_as_urls = [st for st in urls_q_veio_sem_valor_no_lugar_dos_valores_vazio if len(st) > 30]\n",
    "len(pegando_as_urls)"
   ]
  },
  {
   "cell_type": "code",
   "execution_count": 138,
   "metadata": {},
   "outputs": [
    {
     "data": {
      "text/plain": [
       "1273"
      ]
     },
     "execution_count": 138,
     "metadata": {},
     "output_type": "execute_result"
    }
   ],
   "source": [
    "# transformei quase tudo em numero estava('Viewall 13') agora está('13') \n",
    "# menos as urls\n",
    "lista_coom_valores_unitarios_das_conquistas = [percorrendo_lista_das_urls_que_substituiu_os_valores_vazio[8:] for percorrendo_lista_das_urls_que_substituiu_os_valores_vazio in urls_q_veio_sem_valor_no_lugar_dos_valores_vazio]\n",
    "lista_coom_valores_unitarios_das_conquistas\n",
    "\n",
    "# substituindo as urls pelo '999999999'\n",
    "# Valor a ser substituído\n",
    "valor_a_ser_trocado = '999999999'\n",
    "# percorree a lista e substitui as URLs pelo valor '999999999'\n",
    "for i in range(len(lista_coom_valores_unitarios_das_conquistas)):\n",
    "    if lista_coom_valores_unitarios_das_conquistas[i].startswith('store.steampowered') or lista_coom_valores_unitarios_das_conquistas[i].startswith('store.steampowered'):\n",
    "        lista_coom_valores_unitarios_das_conquistas[i] = valor_a_ser_trocado\n",
    "\n",
    "#transformando todos os valores em float\n",
    "lista_dos_valores_convertido_para_float = [float(valor) for valor in lista_coom_valores_unitarios_das_conquistas]\n",
    "len(lista_dos_valores_convertido_para_float)"
   ]
  },
  {
   "cell_type": "code",
   "execution_count": 139,
   "metadata": {},
   "outputs": [
    {
     "data": {
      "text/plain": [
       "22576"
      ]
     },
     "execution_count": 139,
     "metadata": {},
     "output_type": "execute_result"
    }
   ],
   "source": [
    "len(urls_sem_uso_conquista)"
   ]
  },
  {
   "cell_type": "code",
   "execution_count": 141,
   "metadata": {},
   "outputs": [
    {
     "data": {
      "text/plain": [
       "23849"
      ]
     },
     "execution_count": 141,
     "metadata": {},
     "output_type": "execute_result"
    }
   ],
   "source": [
    "pegando_as_urls_da_coluna_achievements = [item for item in list(df['achievements']) if isinstance(item, str)]\n",
    "\n",
    "len(pegando_as_urls_da_coluna_achievements)"
   ]
  },
  {
   "cell_type": "code",
   "execution_count": 142,
   "metadata": {},
   "outputs": [],
   "source": [
    "# criar uma nova coluna conquista\n",
    "# se a url da lista sem uso for igual a da coluna achievements \n",
    "# na nova coluna esses valores serão 0 e mantendo os valores antigo\n",
    "\n",
    "#mantive a função aq pq precisa da lista urls_sem_uso_conquista\n",
    "def tranformando_url_sem_uso_em_0(valor):\n",
    "    if valor in urls_sem_uso_conquista:\n",
    "        return 0\n",
    "    else:\n",
    "        return valor\n",
    "\n",
    "# Aplicar a função à coluna \"conquista\"\n",
    "df['conquistas'] = df['achievements'].apply(tranformando_url_sem_uso_em_0)"
   ]
  },
  {
   "cell_type": "code",
   "execution_count": 143,
   "metadata": {},
   "outputs": [
    {
     "data": {
      "text/plain": [
       "1273"
      ]
     },
     "execution_count": 143,
     "metadata": {},
     "output_type": "execute_result"
    }
   ],
   "source": [
    "pegando_as_urls_da_coluna_achievements = [item for item in list(df['conquistas']) if isinstance(item, str)]\n",
    "\n",
    "len(pegando_as_urls_da_coluna_achievements)"
   ]
  },
  {
   "cell_type": "code",
   "execution_count": 123,
   "metadata": {},
   "outputs": [],
   "source": [
    "# df[['achievements','conquistas']].sample(15)"
   ]
  },
  {
   "cell_type": "code",
   "execution_count": 132,
   "metadata": {},
   "outputs": [
    {
     "data": {
      "text/plain": [
       "1273"
      ]
     },
     "execution_count": 132,
     "metadata": {},
     "output_type": "execute_result"
    }
   ],
   "source": [
    "len(lista_dos_valores_convertido_para_float)"
   ]
  },
  {
   "cell_type": "code",
   "execution_count": 146,
   "metadata": {},
   "outputs": [
    {
     "data": {
      "text/plain": [
       "[0, 0, 0, 0]"
      ]
     },
     "execution_count": 146,
     "metadata": {},
     "output_type": "execute_result"
    }
   ],
   "source": [
    "\n",
    "# pegando_as_urls_da_coluna_achievements = [item for item in list(df['conquistas']) if isinstance(item, str)]\n",
    "\n",
    "# pegando_as_urls_da_coluna_achievements\n",
    "\n",
    "list(df['conquistas'])[31200:31204]"
   ]
  },
  {
   "cell_type": "code",
   "execution_count": 148,
   "metadata": {},
   "outputs": [],
   "source": [
    "df = df.drop(columns=['level_0', 'index'])\n"
   ]
  },
  {
   "cell_type": "code",
   "execution_count": 149,
   "metadata": {},
   "outputs": [],
   "source": [
    "df = df.reset_index()"
   ]
  },
  {
   "cell_type": "code",
   "execution_count": 150,
   "metadata": {},
   "outputs": [
    {
     "data": {
      "text/html": [
       "<div>\n",
       "<style scoped>\n",
       "    .dataframe tbody tr th:only-of-type {\n",
       "        vertical-align: middle;\n",
       "    }\n",
       "\n",
       "    .dataframe tbody tr th {\n",
       "        vertical-align: top;\n",
       "    }\n",
       "\n",
       "    .dataframe thead th {\n",
       "        text-align: right;\n",
       "    }\n",
       "</style>\n",
       "<table border=\"1\" class=\"dataframe\">\n",
       "  <thead>\n",
       "    <tr style=\"text-align: right;\">\n",
       "      <th></th>\n",
       "      <th>index</th>\n",
       "      <th>url</th>\n",
       "      <th>types</th>\n",
       "      <th>name</th>\n",
       "      <th>all_reviews</th>\n",
       "      <th>release_date</th>\n",
       "      <th>developer</th>\n",
       "      <th>publisher</th>\n",
       "      <th>popular_tags</th>\n",
       "      <th>game_details</th>\n",
       "      <th>languages</th>\n",
       "      <th>achievements</th>\n",
       "      <th>genre</th>\n",
       "      <th>game_description</th>\n",
       "      <th>price</th>\n",
       "      <th>desconto</th>\n",
       "      <th>data formatada</th>\n",
       "      <th>data lancamento</th>\n",
       "      <th>conquistas</th>\n",
       "    </tr>\n",
       "  </thead>\n",
       "  <tbody>\n",
       "    <tr>\n",
       "      <th>0</th>\n",
       "      <td>0</td>\n",
       "      <td>https://store.steampowered.com/app/379720/DOOM/</td>\n",
       "      <td>app</td>\n",
       "      <td>DOOM</td>\n",
       "      <td>Very Positive,(42,550),- 92% of the 42,550 use...</td>\n",
       "      <td>May 12, 2016</td>\n",
       "      <td>id Software</td>\n",
       "      <td>Bethesda Softworks,Bethesda Softworks</td>\n",
       "      <td>FPS,Gore,Action,Demons,Shooter,First-Person,Gr...</td>\n",
       "      <td>Single-player,Multi-player,Co-op,Steam Achieve...</td>\n",
       "      <td>English,French,Italian,German,Spanish - Spain,...</td>\n",
       "      <td>54.0</td>\n",
       "      <td>Action</td>\n",
       "      <td>About This Game Developed by id software, the...</td>\n",
       "      <td>19.99</td>\n",
       "      <td>75.55</td>\n",
       "      <td>2016-05-12 00:00:00</td>\n",
       "      <td>2016-05-12</td>\n",
       "      <td>54.0</td>\n",
       "    </tr>\n",
       "    <tr>\n",
       "      <th>1</th>\n",
       "      <td>1</td>\n",
       "      <td>https://store.steampowered.com/app/578080/PLAY...</td>\n",
       "      <td>app</td>\n",
       "      <td>PLAYERUNKNOWN'S BATTLEGROUNDS</td>\n",
       "      <td>Mixed,(836,608),- 49% of the 836,608 user revi...</td>\n",
       "      <td>Dec 21, 2017</td>\n",
       "      <td>PUBG Corporation</td>\n",
       "      <td>PUBG Corporation,PUBG Corporation</td>\n",
       "      <td>Survival,Shooter,Multiplayer,Battle Royale,PvP...</td>\n",
       "      <td>Multi-player,Online Multi-Player,Stats</td>\n",
       "      <td>English,Korean,Simplified Chinese,French,Germa...</td>\n",
       "      <td>37.0</td>\n",
       "      <td>Action,Adventure,Massively Multiplayer</td>\n",
       "      <td>About This Game  PLAYERUNKNOWN'S BATTLEGROUND...</td>\n",
       "      <td>29.99</td>\n",
       "      <td>0.00</td>\n",
       "      <td>2017-12-21 00:00:00</td>\n",
       "      <td>2017-12-21</td>\n",
       "      <td>37.0</td>\n",
       "    </tr>\n",
       "    <tr>\n",
       "      <th>2</th>\n",
       "      <td>2</td>\n",
       "      <td>https://store.steampowered.com/app/637090/BATT...</td>\n",
       "      <td>app</td>\n",
       "      <td>BATTLETECH</td>\n",
       "      <td>Mostly Positive,(7,030),- 71% of the 7,030 use...</td>\n",
       "      <td>Apr 24, 2018</td>\n",
       "      <td>Harebrained Schemes</td>\n",
       "      <td>Paradox Interactive,Paradox Interactive</td>\n",
       "      <td>Mechs,Strategy,Turn-Based,Turn-Based Tactics,S...</td>\n",
       "      <td>Single-player,Multi-player,Online Multi-Player...</td>\n",
       "      <td>English,French,German,Russian</td>\n",
       "      <td>128.0</td>\n",
       "      <td>Action,Adventure,Strategy</td>\n",
       "      <td>About This Game  From original BATTLETECH/Mec...</td>\n",
       "      <td>39.99</td>\n",
       "      <td>0.00</td>\n",
       "      <td>2018-04-24 00:00:00</td>\n",
       "      <td>2018-04-24</td>\n",
       "      <td>128.0</td>\n",
       "    </tr>\n",
       "    <tr>\n",
       "      <th>3</th>\n",
       "      <td>3</td>\n",
       "      <td>https://store.steampowered.com/app/221100/DayZ/</td>\n",
       "      <td>app</td>\n",
       "      <td>DayZ</td>\n",
       "      <td>Mixed,(167,115),- 61% of the 167,115 user revi...</td>\n",
       "      <td>Dec 13, 2018</td>\n",
       "      <td>Bohemia Interactive</td>\n",
       "      <td>Bohemia Interactive,Bohemia Interactive</td>\n",
       "      <td>Survival,Zombies,Open World,Multiplayer,PvP,Ma...</td>\n",
       "      <td>Multi-player,Online Multi-Player,Steam Worksho...</td>\n",
       "      <td>English,French,Italian,German,Spanish - Spain,...</td>\n",
       "      <td>https://store.steampowered.com/app/221100/DayZ/</td>\n",
       "      <td>Action,Adventure,Massively Multiplayer</td>\n",
       "      <td>About This Game The post-soviet country of Ch...</td>\n",
       "      <td>44.99</td>\n",
       "      <td>0.00</td>\n",
       "      <td>2018-12-13 00:00:00</td>\n",
       "      <td>2018-12-13</td>\n",
       "      <td>13.0</td>\n",
       "    </tr>\n",
       "    <tr>\n",
       "      <th>4</th>\n",
       "      <td>4</td>\n",
       "      <td>https://store.steampowered.com/app/601150/Devi...</td>\n",
       "      <td>app</td>\n",
       "      <td>Devil May Cry 5</td>\n",
       "      <td>Very Positive,(9,645),- 92% of the 9,645 user ...</td>\n",
       "      <td>Mar 7, 2019</td>\n",
       "      <td>CAPCOM Co., Ltd.</td>\n",
       "      <td>CAPCOM Co., Ltd.,CAPCOM Co., Ltd.</td>\n",
       "      <td>Action,Hack and Slash,Great Soundtrack,Demons,...</td>\n",
       "      <td>Single-player,Online Multi-Player,Online Co-op...</td>\n",
       "      <td>English,French,Italian,German,Spanish - Spain,...</td>\n",
       "      <td>51.0</td>\n",
       "      <td>Action</td>\n",
       "      <td>About This Game The Devil you know returns in...</td>\n",
       "      <td>59.99</td>\n",
       "      <td>354.92</td>\n",
       "      <td>2019-03-07 00:00:00</td>\n",
       "      <td>2019-03-07</td>\n",
       "      <td>51.0</td>\n",
       "    </tr>\n",
       "    <tr>\n",
       "      <th>...</th>\n",
       "      <td>...</td>\n",
       "      <td>...</td>\n",
       "      <td>...</td>\n",
       "      <td>...</td>\n",
       "      <td>...</td>\n",
       "      <td>...</td>\n",
       "      <td>...</td>\n",
       "      <td>...</td>\n",
       "      <td>...</td>\n",
       "      <td>...</td>\n",
       "      <td>...</td>\n",
       "      <td>...</td>\n",
       "      <td>...</td>\n",
       "      <td>...</td>\n",
       "      <td>...</td>\n",
       "      <td>...</td>\n",
       "      <td>...</td>\n",
       "      <td>...</td>\n",
       "      <td>...</td>\n",
       "    </tr>\n",
       "    <tr>\n",
       "      <th>35805</th>\n",
       "      <td>35806</td>\n",
       "      <td>https://store.steampowered.com/app/899836/Rock...</td>\n",
       "      <td>app</td>\n",
       "      <td>Rocksmith® 2014 Edition – Remastered – Sabaton...</td>\n",
       "      <td>NaN</td>\n",
       "      <td>Feb 12, 2019</td>\n",
       "      <td>Ubisoft - San Francisco</td>\n",
       "      <td>NaN</td>\n",
       "      <td>Casual,Simulation</td>\n",
       "      <td>Single-player,Shared/Split Screen,Downloadable...</td>\n",
       "      <td>English,German,French,Italian,Spanish - Spain,...</td>\n",
       "      <td>https://store.steampowered.com/app/899836/Rock...</td>\n",
       "      <td>Casual,Simulation</td>\n",
       "      <td>About This Content Play \"Ghost Division\" by S...</td>\n",
       "      <td>2.99</td>\n",
       "      <td>0.00</td>\n",
       "      <td>2019-02-12 00:00:00</td>\n",
       "      <td>2019-02-12</td>\n",
       "      <td>0</td>\n",
       "    </tr>\n",
       "    <tr>\n",
       "      <th>35806</th>\n",
       "      <td>35807</td>\n",
       "      <td>https://store.steampowered.com/app/899832/Rock...</td>\n",
       "      <td>app</td>\n",
       "      <td>Rocksmith® 2014 Edition – Remastered – Stone T...</td>\n",
       "      <td>NaN</td>\n",
       "      <td>Feb 5, 2019</td>\n",
       "      <td>Ubisoft - San Francisco</td>\n",
       "      <td>NaN</td>\n",
       "      <td>Casual,Simulation</td>\n",
       "      <td>Single-player,Shared/Split Screen,Downloadable...</td>\n",
       "      <td>English,German,French,Italian,Spanish - Spain,...</td>\n",
       "      <td>https://store.steampowered.com/app/899832/Rock...</td>\n",
       "      <td>Casual,Simulation</td>\n",
       "      <td>About This Content Play \"Trippin’ on a Hole i...</td>\n",
       "      <td>2.99</td>\n",
       "      <td>0.00</td>\n",
       "      <td>2019-02-05 00:00:00</td>\n",
       "      <td>2019-02-05</td>\n",
       "      <td>0</td>\n",
       "    </tr>\n",
       "    <tr>\n",
       "      <th>35807</th>\n",
       "      <td>35808</td>\n",
       "      <td>https://store.steampowered.com/app/906840/Fant...</td>\n",
       "      <td>app</td>\n",
       "      <td>Fantasy Grounds - Quests of Doom 4: A Midnight...</td>\n",
       "      <td>NaN</td>\n",
       "      <td>Jul 31, 2018</td>\n",
       "      <td>SmiteWorks USA, LLC</td>\n",
       "      <td>NaN</td>\n",
       "      <td>RPG,Indie,Strategy,Software,Turn-Based,Fantasy...</td>\n",
       "      <td>Multi-player,Co-op,Cross-Platform Multiplayer,...</td>\n",
       "      <td>English</td>\n",
       "      <td>https://store.steampowered.com/app/906840/Fant...</td>\n",
       "      <td>Indie,RPG,Strategy</td>\n",
       "      <td>About This Content  Quests of Doom 4: A Midni...</td>\n",
       "      <td>7.99</td>\n",
       "      <td>0.00</td>\n",
       "      <td>2018-07-31 00:00:00</td>\n",
       "      <td>2018-07-31</td>\n",
       "      <td>0</td>\n",
       "    </tr>\n",
       "    <tr>\n",
       "      <th>35808</th>\n",
       "      <td>35809</td>\n",
       "      <td>https://store.steampowered.com/app/906635/Mega...</td>\n",
       "      <td>app</td>\n",
       "      <td>Mega Man X5 Sound Collection</td>\n",
       "      <td>NaN</td>\n",
       "      <td>Jul 24, 2018</td>\n",
       "      <td>CAPCOM CO., LTD</td>\n",
       "      <td>CAPCOM CO., LTD,CAPCOM CO., LTD</td>\n",
       "      <td>Action</td>\n",
       "      <td>Single-player,Downloadable Content,Steam Achie...</td>\n",
       "      <td>English,French,Italian,German,Spanish - Spain,...</td>\n",
       "      <td>https://store.steampowered.com/app/906635/Mega...</td>\n",
       "      <td>Action</td>\n",
       "      <td>About This Content Get equipped with the stun...</td>\n",
       "      <td>9.99</td>\n",
       "      <td>0.00</td>\n",
       "      <td>2018-07-24 00:00:00</td>\n",
       "      <td>2018-07-24</td>\n",
       "      <td>0</td>\n",
       "    </tr>\n",
       "    <tr>\n",
       "      <th>35809</th>\n",
       "      <td>35810</td>\n",
       "      <td>https://store.steampowered.com/app/908000/Stor...</td>\n",
       "      <td>app</td>\n",
       "      <td>Stories In Stone</td>\n",
       "      <td>NaN</td>\n",
       "      <td>Aug 8, 2018</td>\n",
       "      <td>16 Bit Psych,Kyle B</td>\n",
       "      <td>Self-Publish,Self-Publish</td>\n",
       "      <td>RPG,Adventure</td>\n",
       "      <td>Single-player,Partial Controller Support,Profi...</td>\n",
       "      <td>English</td>\n",
       "      <td>https://store.steampowered.com/app/908000/Stor...</td>\n",
       "      <td>Adventure,RPG</td>\n",
       "      <td>About This Game  An RPG about a tribe explori...</td>\n",
       "      <td>4.99</td>\n",
       "      <td>14.11</td>\n",
       "      <td>2018-08-08 00:00:00</td>\n",
       "      <td>2018-08-08</td>\n",
       "      <td>0</td>\n",
       "    </tr>\n",
       "  </tbody>\n",
       "</table>\n",
       "<p>35810 rows × 19 columns</p>\n",
       "</div>"
      ],
      "text/plain": [
       "       index                                                url types  \\\n",
       "0          0    https://store.steampowered.com/app/379720/DOOM/   app   \n",
       "1          1  https://store.steampowered.com/app/578080/PLAY...   app   \n",
       "2          2  https://store.steampowered.com/app/637090/BATT...   app   \n",
       "3          3    https://store.steampowered.com/app/221100/DayZ/   app   \n",
       "4          4  https://store.steampowered.com/app/601150/Devi...   app   \n",
       "...      ...                                                ...   ...   \n",
       "35805  35806  https://store.steampowered.com/app/899836/Rock...   app   \n",
       "35806  35807  https://store.steampowered.com/app/899832/Rock...   app   \n",
       "35807  35808  https://store.steampowered.com/app/906840/Fant...   app   \n",
       "35808  35809  https://store.steampowered.com/app/906635/Mega...   app   \n",
       "35809  35810  https://store.steampowered.com/app/908000/Stor...   app   \n",
       "\n",
       "                                                    name  \\\n",
       "0                                                   DOOM   \n",
       "1                          PLAYERUNKNOWN'S BATTLEGROUNDS   \n",
       "2                                             BATTLETECH   \n",
       "3                                                   DayZ   \n",
       "4                                        Devil May Cry 5   \n",
       "...                                                  ...   \n",
       "35805  Rocksmith® 2014 Edition – Remastered – Sabaton...   \n",
       "35806  Rocksmith® 2014 Edition – Remastered – Stone T...   \n",
       "35807  Fantasy Grounds - Quests of Doom 4: A Midnight...   \n",
       "35808                       Mega Man X5 Sound Collection   \n",
       "35809                                   Stories In Stone   \n",
       "\n",
       "                                             all_reviews  release_date  \\\n",
       "0      Very Positive,(42,550),- 92% of the 42,550 use...  May 12, 2016   \n",
       "1      Mixed,(836,608),- 49% of the 836,608 user revi...  Dec 21, 2017   \n",
       "2      Mostly Positive,(7,030),- 71% of the 7,030 use...  Apr 24, 2018   \n",
       "3      Mixed,(167,115),- 61% of the 167,115 user revi...  Dec 13, 2018   \n",
       "4      Very Positive,(9,645),- 92% of the 9,645 user ...   Mar 7, 2019   \n",
       "...                                                  ...           ...   \n",
       "35805                                                NaN  Feb 12, 2019   \n",
       "35806                                                NaN   Feb 5, 2019   \n",
       "35807                                                NaN  Jul 31, 2018   \n",
       "35808                                                NaN  Jul 24, 2018   \n",
       "35809                                                NaN   Aug 8, 2018   \n",
       "\n",
       "                     developer                                publisher  \\\n",
       "0                  id Software    Bethesda Softworks,Bethesda Softworks   \n",
       "1             PUBG Corporation        PUBG Corporation,PUBG Corporation   \n",
       "2          Harebrained Schemes  Paradox Interactive,Paradox Interactive   \n",
       "3          Bohemia Interactive  Bohemia Interactive,Bohemia Interactive   \n",
       "4             CAPCOM Co., Ltd.        CAPCOM Co., Ltd.,CAPCOM Co., Ltd.   \n",
       "...                        ...                                      ...   \n",
       "35805  Ubisoft - San Francisco                                      NaN   \n",
       "35806  Ubisoft - San Francisco                                      NaN   \n",
       "35807      SmiteWorks USA, LLC                                      NaN   \n",
       "35808          CAPCOM CO., LTD          CAPCOM CO., LTD,CAPCOM CO., LTD   \n",
       "35809      16 Bit Psych,Kyle B                Self-Publish,Self-Publish   \n",
       "\n",
       "                                            popular_tags  \\\n",
       "0      FPS,Gore,Action,Demons,Shooter,First-Person,Gr...   \n",
       "1      Survival,Shooter,Multiplayer,Battle Royale,PvP...   \n",
       "2      Mechs,Strategy,Turn-Based,Turn-Based Tactics,S...   \n",
       "3      Survival,Zombies,Open World,Multiplayer,PvP,Ma...   \n",
       "4      Action,Hack and Slash,Great Soundtrack,Demons,...   \n",
       "...                                                  ...   \n",
       "35805                                  Casual,Simulation   \n",
       "35806                                  Casual,Simulation   \n",
       "35807  RPG,Indie,Strategy,Software,Turn-Based,Fantasy...   \n",
       "35808                                             Action   \n",
       "35809                                      RPG,Adventure   \n",
       "\n",
       "                                            game_details  \\\n",
       "0      Single-player,Multi-player,Co-op,Steam Achieve...   \n",
       "1                 Multi-player,Online Multi-Player,Stats   \n",
       "2      Single-player,Multi-player,Online Multi-Player...   \n",
       "3      Multi-player,Online Multi-Player,Steam Worksho...   \n",
       "4      Single-player,Online Multi-Player,Online Co-op...   \n",
       "...                                                  ...   \n",
       "35805  Single-player,Shared/Split Screen,Downloadable...   \n",
       "35806  Single-player,Shared/Split Screen,Downloadable...   \n",
       "35807  Multi-player,Co-op,Cross-Platform Multiplayer,...   \n",
       "35808  Single-player,Downloadable Content,Steam Achie...   \n",
       "35809  Single-player,Partial Controller Support,Profi...   \n",
       "\n",
       "                                               languages  \\\n",
       "0      English,French,Italian,German,Spanish - Spain,...   \n",
       "1      English,Korean,Simplified Chinese,French,Germa...   \n",
       "2                          English,French,German,Russian   \n",
       "3      English,French,Italian,German,Spanish - Spain,...   \n",
       "4      English,French,Italian,German,Spanish - Spain,...   \n",
       "...                                                  ...   \n",
       "35805  English,German,French,Italian,Spanish - Spain,...   \n",
       "35806  English,German,French,Italian,Spanish - Spain,...   \n",
       "35807                                            English   \n",
       "35808  English,French,Italian,German,Spanish - Spain,...   \n",
       "35809                                            English   \n",
       "\n",
       "                                            achievements  \\\n",
       "0                                                   54.0   \n",
       "1                                                   37.0   \n",
       "2                                                  128.0   \n",
       "3        https://store.steampowered.com/app/221100/DayZ/   \n",
       "4                                                   51.0   \n",
       "...                                                  ...   \n",
       "35805  https://store.steampowered.com/app/899836/Rock...   \n",
       "35806  https://store.steampowered.com/app/899832/Rock...   \n",
       "35807  https://store.steampowered.com/app/906840/Fant...   \n",
       "35808  https://store.steampowered.com/app/906635/Mega...   \n",
       "35809  https://store.steampowered.com/app/908000/Stor...   \n",
       "\n",
       "                                        genre  \\\n",
       "0                                      Action   \n",
       "1      Action,Adventure,Massively Multiplayer   \n",
       "2                   Action,Adventure,Strategy   \n",
       "3      Action,Adventure,Massively Multiplayer   \n",
       "4                                      Action   \n",
       "...                                       ...   \n",
       "35805                       Casual,Simulation   \n",
       "35806                       Casual,Simulation   \n",
       "35807                      Indie,RPG,Strategy   \n",
       "35808                                  Action   \n",
       "35809                           Adventure,RPG   \n",
       "\n",
       "                                        game_description  price  desconto  \\\n",
       "0       About This Game Developed by id software, the...  19.99     75.55   \n",
       "1       About This Game  PLAYERUNKNOWN'S BATTLEGROUND...  29.99      0.00   \n",
       "2       About This Game  From original BATTLETECH/Mec...  39.99      0.00   \n",
       "3       About This Game The post-soviet country of Ch...  44.99      0.00   \n",
       "4       About This Game The Devil you know returns in...  59.99    354.92   \n",
       "...                                                  ...    ...       ...   \n",
       "35805   About This Content Play \"Ghost Division\" by S...   2.99      0.00   \n",
       "35806   About This Content Play \"Trippin’ on a Hole i...   2.99      0.00   \n",
       "35807   About This Content  Quests of Doom 4: A Midni...   7.99      0.00   \n",
       "35808   About This Content Get equipped with the stun...   9.99      0.00   \n",
       "35809   About This Game  An RPG about a tribe explori...   4.99     14.11   \n",
       "\n",
       "            data formatada data lancamento conquistas  \n",
       "0      2016-05-12 00:00:00      2016-05-12       54.0  \n",
       "1      2017-12-21 00:00:00      2017-12-21       37.0  \n",
       "2      2018-04-24 00:00:00      2018-04-24      128.0  \n",
       "3      2018-12-13 00:00:00      2018-12-13       13.0  \n",
       "4      2019-03-07 00:00:00      2019-03-07       51.0  \n",
       "...                    ...             ...        ...  \n",
       "35805  2019-02-12 00:00:00      2019-02-12          0  \n",
       "35806  2019-02-05 00:00:00      2019-02-05          0  \n",
       "35807  2018-07-31 00:00:00      2018-07-31          0  \n",
       "35808  2018-07-24 00:00:00      2018-07-24          0  \n",
       "35809  2018-08-08 00:00:00      2018-08-08          0  \n",
       "\n",
       "[35810 rows x 19 columns]"
      ]
     },
     "execution_count": 150,
     "metadata": {},
     "output_type": "execute_result"
    }
   ],
   "source": [
    "#com as urls q sobraram (as que teriam valor)]\n",
    "# vai ser o valores correspondente de cada valor da lista lista_com_a_quantidade_de_conquista_de_cada_jogo\n",
    "# então vou trocar as urls ---> valores da lista\n",
    "contador = 0\n",
    "\n",
    "# Loop para substituir as strings\n",
    "for i in range(len(df)):\n",
    "    if isinstance(df.at[i, 'conquistas'], str) and contador < len(lista_dos_valores_convertido_para_float):\n",
    "        df.at[i, 'conquistas'] = lista_dos_valores_convertido_para_float[contador]\n",
    "        contador += 1\n",
    "df"
   ]
  },
  {
   "cell_type": "code",
   "execution_count": 151,
   "metadata": {},
   "outputs": [],
   "source": [
    "df['conquistas'] = df['conquistas'].astype(int)"
   ]
  },
  {
   "cell_type": "code",
   "execution_count": 152,
   "metadata": {},
   "outputs": [],
   "source": [
    "# os valores que tivem 999999999 vou cortar pq era os valores vazios\n",
    "\n",
    "#transformando os valores 999999999 (as urls q nao conseguiram puxar o valor) em nan\n",
    "df['conquistas'] = df['conquistas'].apply(lambda x: np.nan if x == 999999999 else x)\n",
    "\n",
    "#excluindo os nan\n",
    "df = df.dropna(subset=['conquistas'])"
   ]
  },
  {
   "cell_type": "code",
   "execution_count": 153,
   "metadata": {},
   "outputs": [
    {
     "name": "stderr",
     "output_type": "stream",
     "text": [
      "C:\\Users\\Wellington\\AppData\\Local\\Temp\\ipykernel_12096\\1288419239.py:1: SettingWithCopyWarning: \n",
      "A value is trying to be set on a copy of a slice from a DataFrame.\n",
      "Try using .loc[row_indexer,col_indexer] = value instead\n",
      "\n",
      "See the caveats in the documentation: https://pandas.pydata.org/pandas-docs/stable/user_guide/indexing.html#returning-a-view-versus-a-copy\n",
      "  df['conquistas'] = df['conquistas'].astype(int)\n"
     ]
    }
   ],
   "source": [
    "df['conquistas'] = df['conquistas'].astype(int)\n"
   ]
  },
  {
   "cell_type": "markdown",
   "metadata": {},
   "source": [
    "# TRATAMENTO COLUNA publisher\n"
   ]
  },
  {
   "cell_type": "code",
   "execution_count": 154,
   "metadata": {},
   "outputs": [
    {
     "name": "stderr",
     "output_type": "stream",
     "text": [
      "C:\\Users\\Wellington\\AppData\\Local\\Temp\\ipykernel_12096\\465774373.py:1: SettingWithCopyWarning: \n",
      "A value is trying to be set on a copy of a slice from a DataFrame.\n",
      "Try using .loc[row_indexer,col_indexer] = value instead\n",
      "\n",
      "See the caveats in the documentation: https://pandas.pydata.org/pandas-docs/stable/user_guide/indexing.html#returning-a-view-versus-a-copy\n",
      "  df['publisher'] = df['publisher'].fillna('Sem Editora')\n"
     ]
    }
   ],
   "source": [
    "df['publisher'] = df['publisher'].fillna('Sem Editora')\n"
   ]
  },
  {
   "cell_type": "code",
   "execution_count": 155,
   "metadata": {},
   "outputs": [
    {
     "name": "stderr",
     "output_type": "stream",
     "text": [
      "C:\\Users\\Wellington\\AppData\\Local\\Temp\\ipykernel_12096\\2599804063.py:2: SettingWithCopyWarning: \n",
      "A value is trying to be set on a copy of a slice from a DataFrame.\n",
      "Try using .loc[row_indexer,col_indexer] = value instead\n",
      "\n",
      "See the caveats in the documentation: https://pandas.pydata.org/pandas-docs/stable/user_guide/indexing.html#returning-a-view-versus-a-copy\n",
      "  df['publisher'] = df['publisher'].apply(lambda x: np.nan if x == ' , ' else x)\n",
      "C:\\Users\\Wellington\\AppData\\Local\\Temp\\ipykernel_12096\\2599804063.py:3: SettingWithCopyWarning: \n",
      "A value is trying to be set on a copy of a slice from a DataFrame.\n",
      "Try using .loc[row_indexer,col_indexer] = value instead\n",
      "\n",
      "See the caveats in the documentation: https://pandas.pydata.org/pandas-docs/stable/user_guide/indexing.html#returning-a-view-versus-a-copy\n",
      "  df['publisher'] = df['publisher'].apply(lambda x: np.nan if x == '--,--' else x)\n",
      "C:\\Users\\Wellington\\AppData\\Local\\Temp\\ipykernel_12096\\2599804063.py:4: SettingWithCopyWarning: \n",
      "A value is trying to be set on a copy of a slice from a DataFrame.\n",
      "Try using .loc[row_indexer,col_indexer] = value instead\n",
      "\n",
      "See the caveats in the documentation: https://pandas.pydata.org/pandas-docs/stable/user_guide/indexing.html#returning-a-view-versus-a-copy\n",
      "  df['publisher'] = df['publisher'].apply(lambda x: np.nan if x == '-,-' else x)\n"
     ]
    }
   ],
   "source": [
    "# transformando os valores suspeito em nan\n",
    "df['publisher'] = df['publisher'].apply(lambda x: np.nan if x == ' , ' else x)\n",
    "df['publisher'] = df['publisher'].apply(lambda x: np.nan if x == '--,--' else x)\n",
    "df['publisher'] = df['publisher'].apply(lambda x: np.nan if x == '-,-' else x)\n",
    "\n",
    "# excluindo os nan\n",
    "df = df.dropna(subset=['publisher'])"
   ]
  },
  {
   "cell_type": "markdown",
   "metadata": {},
   "source": [
    "# TRATANDO COLUNA developer\n"
   ]
  },
  {
   "cell_type": "code",
   "execution_count": 156,
   "metadata": {},
   "outputs": [
    {
     "data": {
      "text/plain": [
       "243"
      ]
     },
     "execution_count": 156,
     "metadata": {},
     "output_type": "execute_result"
    }
   ],
   "source": [
    "# transformars os valores que estão como nan em url q sao correspondente\n",
    "\n",
    "# indentificando as linhas que possuem o nan \n",
    "mascara = df['developer'].isna()\n",
    "\n",
    "# substituir os valores nan na coluna 'developer' pelos valores correspondentes da coluna 'url'\n",
    "df.loc[mascara, 'developer'] = df.loc[mascara, 'url']\n",
    "\n",
    "# pegar as urls q estão na coluna developer\n",
    "# transformando toda a coluna developer em uma lista\n",
    "lista_da_coluna_developer = list(df['developer'])\n",
    "\n",
    "# criando uma lista vazia onde vai vim as urls\n",
    "lista_com_as_url_da_coluna_developer = []\n",
    "# percorre a lista e substitui as URLs pelo valor desejado\n",
    "for i in range(len(lista_da_coluna_developer)):\n",
    "    #todos os valores que começa com 'https://store.steampowered' vai se guardado na lista ou seja todas as urls\n",
    "    if lista_da_coluna_developer[i].startswith('https://store.steampowered') or lista_da_coluna_developer[i].startswith('https://store.steampowered'):\n",
    "        lista_com_as_url_da_coluna_developer.append(lista_da_coluna_developer[i])\n",
    "len(lista_com_as_url_da_coluna_developer)\n"
   ]
  },
  {
   "cell_type": "code",
   "execution_count": 157,
   "metadata": {},
   "outputs": [],
   "source": [
    "# fazendo o web scraping\n",
    "lista_com_a_desenvolvedora_de_cada_jogo = []\n",
    "# lista com as urls manipulaveis\n",
    "url_utilizavel_desenvolvedora = []\n",
    "#lista com url sem uso\n",
    "urls_sem_uso_desenvolvedora = [] \n",
    "\n",
    "url = lista_com_as_url_da_coluna_developer\n",
    "# criando um for para verificar cada url se da para usar ou nao\n",
    "for i in url:  \n",
    "\n",
    "    response = requests.get(i)\n",
    "    \n",
    "    # Verificar se a solicitação foi bem-sucedida\n",
    "    if response.status_code == 200:\n",
    "        # Parse a página HTML\n",
    "        soup = BeautifulSoup(response.text, 'html.parser')\n",
    "\n",
    "        # Encontrar o elemento que contém a data de lançamento\n",
    "        data_element = soup.find('div', class_='dev_row')\n",
    "\n",
    "        # Verificar se o elemento foi encontrado\n",
    "        if data_element:\n",
    "            # Extrair o texto do elemento\n",
    "            date_text = data_element.get_text().strip()\n",
    "\n",
    "            lista_com_a_desenvolvedora_de_cada_jogo.append(date_text)\n",
    "            url_utilizavel_desenvolvedora.append(i)\n",
    "        else:\n",
    "            urls_sem_uso_desenvolvedora.append(i)\n",
    "    else:\n",
    "        urls_sem_uso_desenvolvedora.append(i)"
   ]
  },
  {
   "cell_type": "code",
   "execution_count": 158,
   "metadata": {},
   "outputs": [],
   "source": [
    "# criar uma nova coluna 'desenvolvedora'\n",
    "# se a url da lista 'urls_sem_uso_desenvolvedora_obs' for igual a da coluna developer \n",
    "# na nova coluna esses valores serão nan e mantendo os valores antigo\n",
    "\n",
    "def transformando_em_nan_as_urls_sem_uso(valor):\n",
    "    if valor in urls_sem_uso_desenvolvedora:\n",
    "        return np.nan\n",
    "    else:\n",
    "        return valor\n",
    "\n",
    "# aplicar a função à coluna \"developer\"\n",
    "df['desenvolvedora'] = df['developer'].apply(transformando_em_nan_as_urls_sem_uso)"
   ]
  },
  {
   "cell_type": "code",
   "execution_count": 159,
   "metadata": {},
   "outputs": [],
   "source": [
    "#excluuir os nan da coluna\n",
    "df = df.dropna(subset=['desenvolvedora'])"
   ]
  },
  {
   "cell_type": "code",
   "execution_count": 160,
   "metadata": {},
   "outputs": [],
   "source": [
    "# transformar as strings que não começam com 'Developer:' em nan\n",
    "for i in range(len(lista_com_a_desenvolvedora_de_cada_jogo)):\n",
    "    if not lista_com_a_desenvolvedora_de_cada_jogo[i].startswith('Developer:'):\n",
    "        lista_com_a_desenvolvedora_de_cada_jogo[i] = np.nan\n",
    "    else:\n",
    "        lista_com_a_desenvolvedora_de_cada_jogo[i] = lista_com_a_desenvolvedora_de_cada_jogo[i].replace('Developer:\\n\\n', '')\n"
   ]
  },
  {
   "cell_type": "code",
   "execution_count": 161,
   "metadata": {},
   "outputs": [],
   "source": [
    "df = df.reset_index()"
   ]
  },
  {
   "cell_type": "code",
   "execution_count": 162,
   "metadata": {},
   "outputs": [
    {
     "data": {
      "text/plain": [
       "array(['id Software', 'PUBG Corporation', 'Harebrained Schemes', ...,\n",
       "       'Dan Goyette', 'Gustavo Contreras', '16 Bit Psych,Kyle B'],\n",
       "      dtype=object)"
      ]
     },
     "execution_count": 162,
     "metadata": {},
     "output_type": "execute_result"
    }
   ],
   "source": [
    "#verificar se são todas str\n",
    "df['desenvolvedora'].unique()"
   ]
  },
  {
   "cell_type": "code",
   "execution_count": 163,
   "metadata": {},
   "outputs": [
    {
     "data": {
      "text/plain": [
       "94"
      ]
     },
     "execution_count": 163,
     "metadata": {},
     "output_type": "execute_result"
    }
   ],
   "source": [
    "len(lista_com_a_desenvolvedora_de_cada_jogo)"
   ]
  },
  {
   "cell_type": "code",
   "execution_count": 164,
   "metadata": {},
   "outputs": [],
   "source": [
    "# Função para substituir URLs por valores da lista\n",
    "def substituir_url_pelo_valor_da_lista(valor):\n",
    "    if valor.startswith('https://store.steampowered.com/app/') and len(lista_com_a_desenvolvedora_de_cada_jogo) > 0:\n",
    "        return lista_com_a_desenvolvedora_de_cada_jogo.pop(0)\n",
    "    return valor\n",
    "\n",
    "# Aplicar a função à coluna 'preço'\n",
    "df['desenvolvedora'] = df['desenvolvedora'].apply(substituir_url_pelo_valor_da_lista)"
   ]
  },
  {
   "cell_type": "code",
   "execution_count": 165,
   "metadata": {},
   "outputs": [],
   "source": [
    "df = df.dropna(subset=['desenvolvedora'])"
   ]
  },
  {
   "cell_type": "markdown",
   "metadata": {},
   "source": [
    "# TRATANDO COLUNA all_reviews\n"
   ]
  },
  {
   "cell_type": "code",
   "execution_count": 167,
   "metadata": {},
   "outputs": [
    {
     "data": {
      "text/plain": [
       "(35496, 21)"
      ]
     },
     "execution_count": 167,
     "metadata": {},
     "output_type": "execute_result"
    }
   ],
   "source": [
    "df.shape"
   ]
  },
  {
   "cell_type": "code",
   "execution_count": 168,
   "metadata": {},
   "outputs": [],
   "source": [
    "df = df.dropna(subset=['all_reviews'])"
   ]
  },
  {
   "cell_type": "code",
   "execution_count": 169,
   "metadata": {},
   "outputs": [],
   "source": [
    "# tranformando a coluna em lista (valores antigos e as urls)\n",
    "# vou manter as urls e alterar os valores antigos  \n",
    "# Mixed,(4,598),- 62% of the 4,598 user reviews for this ----> 92% of the 42,550 user reviews for this\n",
    "# vou colocar esses valores formatados + urls em uma nova coluna\n",
    "# criar uma nova coluna 'manipulando review'\n",
    "\n",
    "segunda_lista_com__review_geral = list(df['all_reviews'])\n",
    "# Função para extrair a parte desejada  \n",
    "def recortando_a_lista_mantendo_url(text):\n",
    "    if 'http' in text:\n",
    "        return text  # Mantém URLs inalteradas\n",
    "    return text.split('- ')[1].strip()\n",
    "\n",
    "# Aplica a função para extrair a parte desejada nas strings\n",
    "lista_com_os_valores_antigos_manipulados = [recortando_a_lista_mantendo_url(text) for text in segunda_lista_com__review_geral]\n",
    "df['manipulando_review'] = lista_com_os_valores_antigos_manipulados"
   ]
  },
  {
   "cell_type": "code",
   "execution_count": 170,
   "metadata": {},
   "outputs": [],
   "source": [
    "df['manipulando_review'] = df['manipulando_review'].apply(lambda x: 'Sem avaliacao' if x == 'Need more user reviews to generate a score' else x)"
   ]
  },
  {
   "cell_type": "code",
   "execution_count": 171,
   "metadata": {},
   "outputs": [],
   "source": [
    "df = df.dropna(subset=['genre', 'languages', 'game_details', 'popular_tags'])"
   ]
  },
  {
   "cell_type": "code",
   "execution_count": 212,
   "metadata": {},
   "outputs": [
    {
     "name": "stdout",
     "output_type": "stream",
     "text": [
      "(26963, 22)\n",
      "level_0               0\n",
      "index                 0\n",
      "url                   0\n",
      "types                 0\n",
      "name                  0\n",
      "all_reviews           0\n",
      "release_date          0\n",
      "developer             0\n",
      "publisher             0\n",
      "popular_tags          0\n",
      "game_details          0\n",
      "languages             0\n",
      "achievements          0\n",
      "genre                 0\n",
      "game_description      0\n",
      "price                 0\n",
      "desconto              0\n",
      "data formatada        0\n",
      "data lancamento       0\n",
      "conquistas            0\n",
      "desenvolvedora        0\n",
      "manipulando_review    0\n",
      "dtype: int64\n"
     ]
    }
   ],
   "source": [
    "print(df.shape)\n",
    "print(df.isna().sum())"
   ]
  },
  {
   "cell_type": "code",
   "execution_count": 214,
   "metadata": {},
   "outputs": [],
   "source": [
    "df = df.drop(columns=['level_0', 'index', 'release_date', 'data formatada', 'developer', 'achievements'])\n",
    "df = df.rename(columns={'manipulando_review': 'avaliação geral'})"
   ]
  },
  {
   "cell_type": "code",
   "execution_count": 215,
   "metadata": {},
   "outputs": [
    {
     "name": "stdout",
     "output_type": "stream",
     "text": [
      "(26963, 16)\n",
      "url                 0\n",
      "types               0\n",
      "name                0\n",
      "all_reviews         0\n",
      "publisher           0\n",
      "popular_tags        0\n",
      "game_details        0\n",
      "languages           0\n",
      "genre               0\n",
      "game_description    0\n",
      "price               0\n",
      "desconto            0\n",
      "data lancamento     0\n",
      "conquistas          0\n",
      "desenvolvedora      0\n",
      "avaliação geral     0\n",
      "dtype: int64\n"
     ]
    }
   ],
   "source": [
    "print(df.shape)\n",
    "print(df.isna().sum())"
   ]
  },
  {
   "cell_type": "code",
   "execution_count": 216,
   "metadata": {},
   "outputs": [],
   "source": [
    "df.to_csv('Steam_games_tratada.csv')"
   ]
  },
  {
   "cell_type": "markdown",
   "metadata": {},
   "source": [
    "pivot coluna genre"
   ]
  },
  {
   "cell_type": "code",
   "execution_count": 218,
   "metadata": {},
   "outputs": [],
   "source": [
    "# passando as colunas genre para outro DF\n",
    "pivot_genre = df['genre']\n",
    "\n",
    "# transformando em uma lista\n",
    "tag_lists = [tags.split(',') for tags in pivot_genre]\n",
    "# tag_lists\n",
    "\n",
    "# # Crie um DataFrame com uma coluna 'genre' em formato de lista\n",
    "df_pivot_genre = pd.DataFrame({'genre': tag_lists})\n",
    "# trouxe a coluna url para esse novo df para ser nosso id\n",
    "df_pivot_genre['url'] = df['url']\n",
    "# df_pivot_genre\n",
    "\n",
    "#fazendo o pivotamento (nao sei como escreve)\n",
    "df_pivot_genre_feito = df_pivot_genre.explode('genre')\n",
    "\n",
    "#criando um csv aparte para o pivot\n",
    "df_pivot_genre_feito.to_csv('steam_games_pivotamento_genre.csv')"
   ]
  },
  {
   "cell_type": "markdown",
   "metadata": {},
   "source": [
    "pivot coluna languages"
   ]
  },
  {
   "cell_type": "code",
   "execution_count": 219,
   "metadata": {},
   "outputs": [],
   "source": [
    "# passando as colunas genre para outro DF\n",
    "pivot_languages = df['languages']\n",
    "\n",
    "# transformando em uma lista\n",
    "tag_lists = [tags.split(',') for tags in pivot_languages]\n",
    "# tag_lists\n",
    "\n",
    "# # Crie um DataFrame com uma coluna 'genre' em formato de lista\n",
    "df_pivot_languages = pd.DataFrame({'languages': tag_lists})\n",
    "# trouxe a coluna url para esse novo df para ser nosso id\n",
    "df_pivot_languages['url'] = df['url']\n",
    "\n",
    "#fazendo o pivotamento (nao sei como escreve)\n",
    "df_pivot_languages_feito = df_pivot_languages.explode('languages')\n",
    "\n",
    "#criando um csv aparte para o pivot\n",
    "df_pivot_languages_feito.to_csv('steam_games_pivotamento_languages.csv')"
   ]
  },
  {
   "cell_type": "markdown",
   "metadata": {},
   "source": [
    "pivot game_details"
   ]
  },
  {
   "cell_type": "code",
   "execution_count": 220,
   "metadata": {},
   "outputs": [],
   "source": [
    "# passando as colunas game_details para outro DF\n",
    "pivot_game_details = df['game_details']\n",
    "\n",
    "# transformando em uma lista\n",
    "tag_lists = [tags.split(',') for tags in pivot_game_details]\n",
    "\n",
    "# # Crie um DataFrame com uma coluna 'game_details' em formato de lista\n",
    "df_pivot_game_details = pd.DataFrame({'game_details': tag_lists})\n",
    "# trouxe a coluna url para esse novo df para ser nosso id\n",
    "df_pivot_game_details['url'] = df['url']\n",
    "\n",
    "#fazendo o pivotamento (nao sei como escreve)\n",
    "df_pivot_game_details_feito = df_pivot_game_details.explode('game_details')\n",
    "\n",
    "#criando um csv aparte para o pivot\n",
    "df_pivot_game_details_feito.to_csv('steam_games_pivotamento_game_details.csv')"
   ]
  },
  {
   "cell_type": "markdown",
   "metadata": {},
   "source": [
    "pivot popular_tags"
   ]
  },
  {
   "cell_type": "code",
   "execution_count": 221,
   "metadata": {},
   "outputs": [],
   "source": [
    "# passando as colunas game_details para outro DF\n",
    "pivot_popular_tags = df['popular_tags']\n",
    "\n",
    "# transformando em uma lista\n",
    "tag_lists = [tags.split(',') for tags in pivot_popular_tags]\n",
    "\n",
    "# # Crie um DataFrame com uma coluna 'popular_tags' em formato de lista\n",
    "df_pivot_popular_tags = pd.DataFrame({'popular_tags': tag_lists})\n",
    "# trouxe a coluna url para esse novo df para ser nosso id\n",
    "df_pivot_popular_tags['url'] = df['url']\n",
    "\n",
    "#fazendo o pivotamento (nao sei como escreve)\n",
    "df_pivot_popular_tags_feito = df_pivot_popular_tags.explode('popular_tags')\n",
    "\n",
    "#criando um csv aparte para o pivot\n",
    "df_pivot_popular_tags_feito.to_csv('steam_games_pivotamento_popular_tags.csv')"
   ]
  }
 ],
 "metadata": {
  "kernelspec": {
   "display_name": "base",
   "language": "python",
   "name": "python3"
  },
  "language_info": {
   "codemirror_mode": {
    "name": "ipython",
    "version": 3
   },
   "file_extension": ".py",
   "mimetype": "text/x-python",
   "name": "python",
   "nbconvert_exporter": "python",
   "pygments_lexer": "ipython3",
   "version": "3.9.12"
  },
  "orig_nbformat": 4
 },
 "nbformat": 4,
 "nbformat_minor": 2
}
